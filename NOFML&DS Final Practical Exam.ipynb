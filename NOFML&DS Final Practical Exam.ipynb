{
 "cells": [
  {
   "cell_type": "markdown",
   "metadata": {
    "id": "32b92576"
   },
   "source": [
    "<b>In this practical exam you are required to do the following:</b><b>\n",
    "1. Implement the Adam (Batch Version) algorithm to train a multivariable linear regression model.\n",
    "2. Update your implementation to work for mini-batch.\n",
    "</b>\n",
    "\n",
    "### Please fulfil the following requirements:\n",
    "<br>\n",
    "<b>\n",
    "    \n",
    "    1. Each implementation must be in a sepearate function. i.e. two separate functions.\n",
    "    2. Check each function on the data in the attached file.\n",
    "    3. You must obtain r2-score > 0.9 using each functiion.\n",
    "    4. You must plot the following curves.\n",
    "        - Loss vs. iterations.\n",
    "        - Loss vs. each parameter (i.e. loss vs theta 0, loss vs. theta 1 .... etc.).\n",
    "    5. Choose hyper parameters to obtain the required accuracy.\n",
    "    6. The implementation must be vectoried and calculations must be performed as matrix vector multiplications.\n",
    "    7. Apply the stop conditions (gradient < 0.001 and cost convergence check).                                            \n",
    "</b>\n",
    "    \n",
    "<b><i>Note: You are allowed to use the code you developed during practical sessions. However, it should be your own code.</i></b>"
   ]
  },
  {
   "cell_type": "markdown",
   "metadata": {
    "id": "db57d373"
   },
   "source": [
    "## Best of Luck..."
   ]
  },
  {
   "cell_type": "code",
   "execution_count": null,
   "metadata": {
    "id": "0cbf0144"
   },
   "outputs": [],
   "source": []
  }
 ],
 "metadata": {
  "colab": {
   "name": "NOFML&DS Final Practical Exam.ipynb",
   "provenance": []
  },
  "kernelspec": {
   "display_name": "Python 3",
   "language": "python",
   "name": "python3"
  },
  "language_info": {
   "codemirror_mode": {
    "name": "ipython",
    "version": 3
   },
   "file_extension": ".py",
   "mimetype": "text/x-python",
   "name": "python",
   "nbconvert_exporter": "python",
   "pygments_lexer": "ipython3",
   "version": "3.8.5"
  }
 },
 "nbformat": 4,
 "nbformat_minor": 5
}
